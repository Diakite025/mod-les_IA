{
 "cells": [
  {
   "cell_type": "code",
   "execution_count": 717,
   "metadata": {
    "pycharm": {
     "name": "#%%\n"
    }
   },
   "outputs": [],
   "source": [
    "\n",
    "from math import log\n",
    "\n",
    "import pandas as pd\n",
    "import numpy as np\n",
    "import matplotlib.pyplot as plt\n",
    "import seaborn as sns"
   ]
  },
  {
   "cell_type": "markdown",
   "source": [
    "# Calcul des différents métriques à l'aide du jeu de prédiction fournis"
   ],
   "metadata": {
    "collapsed": false,
    "pycharm": {
     "name": "#%% md\n"
    }
   }
  },
  {
   "cell_type": "markdown",
   "source": [
    "## Importation des prédictions"
   ],
   "metadata": {
    "collapsed": false,
    "pycharm": {
     "name": "#%% md\n"
    }
   }
  },
  {
   "cell_type": "code",
   "execution_count": 718,
   "metadata": {
    "pycharm": {
     "name": "#%%\n"
    }
   },
   "outputs": [
    {
     "data": {
      "text/plain": "     0\n0    3\n1    0\n2    0\n3    1\n4    0\n..  ..\n340  0\n341  1\n342  1\n343  0\n344  3\n\n[345 rows x 1 columns]",
      "text/html": "<div>\n<style scoped>\n    .dataframe tbody tr th:only-of-type {\n        vertical-align: middle;\n    }\n\n    .dataframe tbody tr th {\n        vertical-align: top;\n    }\n\n    .dataframe thead th {\n        text-align: right;\n    }\n</style>\n<table border=\"1\" class=\"dataframe\">\n  <thead>\n    <tr style=\"text-align: right;\">\n      <th></th>\n      <th>0</th>\n    </tr>\n  </thead>\n  <tbody>\n    <tr>\n      <th>0</th>\n      <td>3</td>\n    </tr>\n    <tr>\n      <th>1</th>\n      <td>0</td>\n    </tr>\n    <tr>\n      <th>2</th>\n      <td>0</td>\n    </tr>\n    <tr>\n      <th>3</th>\n      <td>1</td>\n    </tr>\n    <tr>\n      <th>4</th>\n      <td>0</td>\n    </tr>\n    <tr>\n      <th>...</th>\n      <td>...</td>\n    </tr>\n    <tr>\n      <th>340</th>\n      <td>0</td>\n    </tr>\n    <tr>\n      <th>341</th>\n      <td>1</td>\n    </tr>\n    <tr>\n      <th>342</th>\n      <td>1</td>\n    </tr>\n    <tr>\n      <th>343</th>\n      <td>0</td>\n    </tr>\n    <tr>\n      <th>344</th>\n      <td>3</td>\n    </tr>\n  </tbody>\n</table>\n<p>345 rows × 1 columns</p>\n</div>"
     },
     "execution_count": 718,
     "metadata": {},
     "output_type": "execute_result"
    }
   ],
   "source": [
    "# ####################### PREDICTIONS FOURNIS  ############################\"\n",
    "root = \"../predictions/\"\n",
    "\n",
    "y_pred_DT4 = pd.read_csv(root + \"y_pred_DT4.csv\", header=None)\n",
    "y_pred_DT5 = pd.read_csv(root + \"y_pred_DT5.csv\", header=None)\n",
    "y_pred_DT6 = pd.read_csv(root + \"y_pred_DT6.csv\", header=None)\n",
    "y_pred_NN_relu_6_4 = pd.read_csv(root + \"y_pred_NN_relu_6-4.csv\", header=None)\n",
    "y_pred_NN_relu_10_8_4 = pd.read_csv(root + \"y_pred_NN_relu_10-8-4.csv\", header=None)\n",
    "y_pred_NN_relu_10_8_6 = pd.read_csv(root + \"y_pred_NN_relu_10-8-6.csv\", header=None)\n",
    "y_pred_NN_tanh_6_4 = pd.read_csv(root + \"y_pred_NN_tanh_6-4.csv\", header=None)\n",
    "y_pred_NN_tanh_10_8_4 = pd.read_csv(root + \"y_pred_NN_tanh_10-8-4.csv\", header=None)\n",
    "y_pred_NN_tanh_10_8_6 = pd.read_csv(root + \"y_pred_NN_tanh_10-8-6.csv\", header=None)\n",
    "\n",
    "y_test = pd.read_csv(root + \"y_test.csv\", header=None)\n",
    "#y_pred_NN_relu_6_4\n",
    "#y_pred_NN_relu_10_8_4\n",
    "#y_pred_NN_relu_10_8_6\n",
    "#y_pred_NN_tanh_6_4\n",
    "#y_pred_NN_tanh_10_8_6\n",
    "\n",
    "####################### TEST DE NOS PREDICTIONS ############################\"\n",
    "root2 = \"./predictions/best_preds/\"\n",
    "my_pred_DT3 = pd.read_csv(root2 + \"y_pred_DT3.csv\", header=None)\n",
    "my_pred_DT4 = pd.read_csv(root2 + \"y_pred_DT4.csv\", header=None)\n",
    "my_pred_DT5 = pd.read_csv(root2 + \"y_pred_DT5.csv\", header=None)\n",
    "my_test = pd.read_csv(root2 + \"y_test.csv\", header=None)\n",
    "\n",
    "my_pred_NN_relu_6_4 = pd.read_csv(root + \"y_pred_NN_relu_6-4.csv\", header=None)\n",
    "my_pred_NN_relu_10_8_4 = pd.read_csv(root + \"y_pred_NN_relu_10-8-4.csv\", header=None)\n",
    "my_pred_NN_relu_10_8_6 = pd.read_csv(root + \"y_pred_NN_relu_10-8-6.csv\", header=None)\n",
    "my_pred_NN_tanh_6_4 = pd.read_csv(root + \"y_pred_NN_tanh_6-4.csv\", header=None)\n",
    "my_pred_NN_tanh_10_8_4 = pd.read_csv(root + \"y_pred_NN_tanh_10-8-4.csv\", header=None)\n",
    "my_pred_NN_tanh_10_8_6 = pd.read_csv(root + \"y_pred_NN_tanh_10-8-6.csv\", header=None)\n",
    "\n",
    "my_pred_DT3"
   ]
  },
  {
   "cell_type": "markdown",
   "source": [
    "### transformation des prédiction des arbres sous forme de liste"
   ],
   "metadata": {
    "collapsed": false,
    "pycharm": {
     "name": "#%% md\n"
    }
   }
  },
  {
   "cell_type": "code",
   "execution_count": 719,
   "outputs": [
    {
     "data": {
      "text/plain": "[3,\n 0,\n 0,\n 1,\n 0,\n 2,\n 0,\n 1,\n 0,\n 1,\n 0,\n 2,\n 0,\n 0,\n 0,\n 1,\n 2,\n 1,\n 0,\n 2,\n 0,\n 1,\n 1,\n 0,\n 3,\n 0,\n 1,\n 2,\n 0,\n 3,\n 1,\n 0,\n 0,\n 1,\n 2,\n 1,\n 2,\n 0,\n 1,\n 1,\n 1,\n 1,\n 2,\n 1,\n 1,\n 3,\n 0,\n 1,\n 2,\n 1,\n 1,\n 0,\n 0,\n 1,\n 0,\n 0,\n 0,\n 2,\n 1,\n 2,\n 0,\n 0,\n 0,\n 1,\n 3,\n 1,\n 0,\n 3,\n 0,\n 1,\n 1,\n 1,\n 0,\n 1,\n 0,\n 2,\n 1,\n 2,\n 2,\n 0,\n 0,\n 2,\n 1,\n 1,\n 1,\n 1,\n 2,\n 0,\n 0,\n 1,\n 1,\n 2,\n 2,\n 3,\n 0,\n 0,\n 1,\n 1,\n 1,\n 0,\n 1,\n 1,\n 1,\n 0,\n 0,\n 1,\n 1,\n 0,\n 1,\n 1,\n 0,\n 1,\n 1,\n 2,\n 3,\n 3,\n 1,\n 1,\n 2,\n 0,\n 0,\n 2,\n 0,\n 1,\n 0,\n 2,\n 1,\n 0,\n 1,\n 2,\n 2,\n 1,\n 0,\n 0,\n 2,\n 1,\n 2,\n 0,\n 1,\n 1,\n 0,\n 2,\n 1,\n 0,\n 1,\n 1,\n 0,\n 0,\n 0,\n 1,\n 0,\n 0,\n 3,\n 1,\n 1,\n 0,\n 2,\n 2,\n 1,\n 1,\n 0,\n 0,\n 0,\n 0,\n 1,\n 0,\n 0,\n 1,\n 1,\n 0,\n 1,\n 0,\n 2,\n 0,\n 1,\n 1,\n 0,\n 1,\n 1,\n 0,\n 1,\n 1,\n 0,\n 1,\n 1,\n 1,\n 1,\n 2,\n 0,\n 2,\n 3,\n 1,\n 3,\n 0,\n 0,\n 1,\n 0,\n 2,\n 1,\n 2,\n 1,\n 1,\n 2,\n 1,\n 1,\n 2,\n 3,\n 2,\n 2,\n 0,\n 1,\n 0,\n 2,\n 1,\n 0,\n 3,\n 0,\n 1,\n 1,\n 1,\n 2,\n 0,\n 2,\n 2,\n 0,\n 0,\n 1,\n 1,\n 1,\n 1,\n 1,\n 0,\n 1,\n 1,\n 1,\n 0,\n 1,\n 2,\n 2,\n 1,\n 1,\n 2,\n 0,\n 0,\n 0,\n 1,\n 1,\n 2,\n 1,\n 0,\n 1,\n 2,\n 1,\n 0,\n 0,\n 0,\n 1,\n 1,\n 2,\n 1,\n 0,\n 2,\n 2,\n 0,\n 1,\n 0,\n 0,\n 0,\n 1,\n 1,\n 2,\n 3,\n 0,\n 0,\n 0,\n 0,\n 0,\n 0,\n 0,\n 0,\n 1,\n 0,\n 0,\n 2,\n 0,\n 0,\n 2,\n 1,\n 0,\n 2,\n 0,\n 1,\n 2,\n 2,\n 0,\n 0,\n 0,\n 0,\n 2,\n 2,\n 1,\n 0,\n 1,\n 1,\n 1,\n 1,\n 1,\n 1,\n 3,\n 2,\n 0,\n 1,\n 1,\n 3,\n 3,\n 1,\n 0,\n 0,\n 1,\n 0,\n 1,\n 2,\n 0,\n 1,\n 0,\n 0,\n 1,\n 1,\n 1,\n 1,\n 1,\n 0,\n 1,\n 2,\n 2,\n 0,\n 2,\n 1,\n 0,\n 3,\n 0,\n 1,\n 1,\n 0,\n 3]"
     },
     "execution_count": 719,
     "metadata": {},
     "output_type": "execute_result"
    }
   ],
   "source": [
    "y_pred_DT4 = y_pred_DT4[0][:].tolist()\n",
    "y_pred_DT5 = y_pred_DT5[0][:].tolist()\n",
    "y_pred_DT6 = y_pred_DT6[0][:].tolist()\n",
    "\n",
    "my_pred_DT3 = my_pred_DT3[0][:].tolist()\n",
    "my_pred_DT4 = my_pred_DT4[0][:].tolist()\n",
    "my_pred_DT5 = my_pred_DT5[0][:].tolist()\n",
    "my_pred_DT3"
   ],
   "metadata": {
    "collapsed": false,
    "pycharm": {
     "name": "#%%\n"
    }
   }
  },
  {
   "cell_type": "markdown",
   "source": [
    "### transformation des prédictions des RNN après déduction des class des instances"
   ],
   "metadata": {
    "collapsed": false,
    "pycharm": {
     "name": "#%% md\n"
    }
   }
  },
  {
   "cell_type": "code",
   "execution_count": 720,
   "outputs": [
    {
     "data": {
      "text/plain": "[3,\n 1,\n 2,\n 0,\n 0,\n 1,\n 0,\n 1,\n 1,\n 0,\n 0,\n 0,\n 2,\n 0,\n 0,\n 1,\n 3,\n 1,\n 2,\n 0,\n 2,\n 1,\n 1,\n 2,\n 2,\n 0,\n 1,\n 2,\n 0,\n 3,\n 1,\n 0,\n 0,\n 1,\n 2,\n 1,\n 3,\n 0,\n 1,\n 1,\n 1,\n 1,\n 2,\n 1,\n 1,\n 2,\n 0,\n 0,\n 2,\n 0,\n 1,\n 1,\n 0,\n 1,\n 0,\n 1,\n 0,\n 0,\n 1,\n 2,\n 0,\n 0,\n 0,\n 1,\n 1,\n 1,\n 0,\n 2,\n 2,\n 1,\n 1,\n 1,\n 0,\n 1,\n 2,\n 2,\n 0,\n 1,\n 2,\n 0,\n 1,\n 3,\n 3,\n 1,\n 1,\n 1,\n 3,\n 0,\n 0,\n 1,\n 1,\n 0,\n 0,\n 3,\n 0,\n 0,\n 1,\n 1,\n 1,\n 0,\n 1,\n 1,\n 1,\n 0,\n 0,\n 1,\n 1,\n 3,\n 3,\n 0,\n 1,\n 2,\n 1,\n 2,\n 3,\n 1,\n 1,\n 1,\n 2,\n 1,\n 0,\n 0,\n 0,\n 3,\n 2,\n 2,\n 1,\n 0,\n 2,\n 2,\n 0,\n 1,\n 0,\n 0,\n 2,\n 1,\n 2,\n 0,\n 1,\n 1,\n 0,\n 2,\n 0,\n 0,\n 1,\n 1,\n 1,\n 0,\n 0,\n 3,\n 0,\n 1,\n 3,\n 3,\n 1,\n 3,\n 2,\n 2,\n 1,\n 1,\n 0,\n 0,\n 0,\n 0,\n 3,\n 0,\n 0,\n 1,\n 3,\n 0,\n 1,\n 0,\n 2,\n 0,\n 1,\n 1,\n 0,\n 1,\n 3,\n 0,\n 1,\n 2,\n 0,\n 1,\n 1,\n 1,\n 1,\n 2,\n 0,\n 2,\n 1,\n 1,\n 2,\n 2,\n 0,\n 1,\n 0,\n 2,\n 1,\n 2,\n 1,\n 1,\n 0,\n 1,\n 0,\n 2,\n 3,\n 2,\n 2,\n 0,\n 1,\n 0,\n 0,\n 0,\n 0,\n 2,\n 2,\n 0,\n 1,\n 1,\n 1,\n 3,\n 3,\n 3,\n 0,\n 0,\n 2,\n 2,\n 1,\n 1,\n 1,\n 0,\n 1,\n 1,\n 1,\n 0,\n 1,\n 0,\n 2,\n 1,\n 1,\n 2,\n 0,\n 2,\n 0,\n 1,\n 1,\n 2,\n 1,\n 0,\n 1,\n 2,\n 1,\n 0,\n 2,\n 0,\n 1,\n 3,\n 2,\n 1,\n 0,\n 2,\n 2,\n 0,\n 3,\n 0,\n 0,\n 0,\n 1,\n 1,\n 2,\n 3,\n 0,\n 0,\n 1,\n 0,\n 0,\n 3,\n 0,\n 0,\n 1,\n 0,\n 0,\n 1,\n 1,\n 0,\n 0,\n 1,\n 0,\n 1,\n 1,\n 1,\n 1,\n 1,\n 1,\n 2,\n 0,\n 0,\n 2,\n 2,\n 1,\n 0,\n 3,\n 0,\n 2,\n 1,\n 1,\n 3,\n 3,\n 2,\n 0,\n 1,\n 2,\n 2,\n 1,\n 1,\n 0,\n 0,\n 2,\n 0,\n 1,\n 3,\n 0,\n 1,\n 0,\n 0,\n 1,\n 1,\n 1,\n 1,\n 1,\n 0,\n 0,\n 2,\n 2,\n 0,\n 1,\n 2,\n 2,\n 3,\n 0,\n 1,\n 1,\n 0,\n 1,\n 1,\n 2,\n 2,\n 0,\n 0,\n 1,\n 0,\n 1,\n 1,\n 2,\n 0,\n 1,\n 3,\n 1,\n 1,\n 1,\n 1,\n 0,\n 0,\n 1,\n 3,\n 1,\n 3,\n 2,\n 1,\n 1,\n 3,\n 0,\n 3,\n 0,\n 1,\n 1,\n 1,\n 0,\n 2,\n 1,\n 0,\n 2,\n 0,\n 0,\n 2,\n 1,\n 0,\n 0,\n 0,\n 1,\n 1,\n 0,\n 0,\n 0,\n 2,\n 0,\n 1,\n 2,\n 1,\n 0,\n 1,\n 1,\n 1,\n 2,\n 1,\n 1,\n 2,\n 1,\n 1,\n 1,\n 1,\n 1,\n 0,\n 2,\n 2,\n 1,\n 0,\n 2,\n 0,\n 3,\n 1,\n 1,\n 2,\n 0,\n 2,\n 3,\n 1,\n 0,\n 2,\n 1,\n 1,\n 0,\n 1,\n 2,\n 1,\n 0,\n 0,\n 2,\n 1,\n 1,\n 1,\n 1,\n 1,\n 1,\n 1,\n 2,\n 1,\n 1,\n 2,\n 0,\n 0,\n 3,\n 2,\n 3,\n 2,\n 1,\n 0,\n 1,\n 0]"
     },
     "execution_count": 720,
     "metadata": {},
     "output_type": "execute_result"
    }
   ],
   "source": [
    "y_test = y_test[0][:].tolist()\n",
    "my_test = my_test[0][:].tolist()\n",
    "\n",
    "y_pred_NN_relu_6_4 = y_pred_NN_relu_6_4.idxmax(axis = 1)\n",
    "y_pred_NN_relu_6_4 = pd.DataFrame(y_pred_NN_relu_6_4)\n",
    "y_pred_NN_relu_6_4 = y_pred_NN_relu_6_4[0][:].tolist()\n",
    "#y_pred_NN_relu_6_4\n",
    "\n",
    "y_pred_NN_relu_10_8_4 = y_pred_NN_relu_10_8_4.idxmax(axis = 1)\n",
    "y_pred_NN_relu_10_8_4 = pd.DataFrame(y_pred_NN_relu_10_8_4)\n",
    "y_pred_NN_relu_10_8_4 = y_pred_NN_relu_10_8_4[0][:].tolist()\n",
    "#y_pred_NN_relu_10_8_4\n",
    "\n",
    "y_pred_NN_relu_10_8_6 = y_pred_NN_relu_10_8_6.idxmax(axis = 1)\n",
    "y_pred_NN_relu_10_8_6 = pd.DataFrame(y_pred_NN_relu_10_8_6)\n",
    "y_pred_NN_relu_10_8_6 = y_pred_NN_relu_10_8_6[0][:].tolist()\n",
    "#y_pred_NN_relu_10_8_6\n",
    "\n",
    "y_pred_NN_tanh_6_4 = y_pred_NN_tanh_6_4.idxmax(axis = 1)\n",
    "y_pred_NN_tanh_6_4 = pd.DataFrame(y_pred_NN_tanh_6_4)\n",
    "y_pred_NN_tanh_6_4 = y_pred_NN_tanh_6_4[0][:].tolist()\n",
    "#y_pred_NN_tanh_6_4\n",
    "\n",
    "y_pred_NN_tanh_10_8_4 = y_pred_NN_tanh_10_8_4.idxmax(axis = 1)\n",
    "y_pred_NN_tanh_10_8_4 = pd.DataFrame(y_pred_NN_tanh_10_8_4)\n",
    "y_pred_NN_tanh_10_8_4 = y_pred_NN_tanh_10_8_4[0][:].tolist()\n",
    "#y_pred_NN_tanh_10_8_4\n",
    "\n",
    "y_pred_NN_tanh_10_8_6 = y_pred_NN_tanh_10_8_6.idxmax(axis = 1)\n",
    "y_pred_NN_tanh_10_8_6 = pd.DataFrame(y_pred_NN_tanh_10_8_6)\n",
    "y_pred_NN_tanh_10_8_6 = y_pred_NN_tanh_10_8_6[0][:].tolist()\n",
    "y_pred_NN_tanh_10_8_6\n",
    "\n",
    "\n",
    "####################### TEST DE NOS PREDICTIONS SUR LES RESEAUX DE NEURONNES ############################\"\n",
    "\n",
    "\n",
    "my_pred_NN_relu_6_4 = my_pred_NN_relu_6_4.idxmax(axis = 1)\n",
    "my_pred_NN_relu_6_4 = pd.DataFrame(my_pred_NN_relu_6_4)\n",
    "my_pred_NN_relu_6_4 = my_pred_NN_relu_6_4[0][:].tolist()\n",
    "#y_pred_NN_relu_6_4\n",
    "\n",
    "my_pred_NN_relu_10_8_4 = my_pred_NN_relu_10_8_4.idxmax(axis = 1)\n",
    "my_pred_NN_relu_10_8_4 = pd.DataFrame(my_pred_NN_relu_10_8_4)\n",
    "my_pred_NN_relu_10_8_4 = my_pred_NN_relu_10_8_4[0][:].tolist()\n",
    "#y_pred_NN_relu_10_8_4\n",
    "\n",
    "my_pred_NN_relu_10_8_6 = my_pred_NN_relu_10_8_6.idxmax(axis = 1)\n",
    "my_pred_NN_relu_10_8_6 = pd.DataFrame(my_pred_NN_relu_10_8_6)\n",
    "my_pred_NN_relu_10_8_6 = my_pred_NN_relu_10_8_6[0][:].tolist()\n",
    "#y_pred_NN_relu_10_8_6\n",
    "\n",
    "my_pred_NN_tanh_6_4 = my_pred_NN_tanh_6_4 .idxmax(axis = 1)\n",
    "my_pred_NN_tanh_6_4  = pd.DataFrame(my_pred_NN_tanh_6_4 )\n",
    "my_pred_NN_tanh_6_4  = my_pred_NN_tanh_6_4 [0][:].tolist()\n",
    "#y_pred_NN_tanh_6_4\n",
    "\n",
    "my_pred_NN_tanh_10_8_4 = my_pred_NN_tanh_10_8_4.idxmax(axis = 1)\n",
    "my_pred_NN_tanh_10_8_4 = pd.DataFrame(my_pred_NN_tanh_10_8_4)\n",
    "my_pred_NN_tanh_10_8_4 = my_pred_NN_tanh_10_8_4[0][:].tolist()\n",
    "#y_pred_NN_tanh_10_8_4\n",
    "\n",
    "my_pred_NN_tanh_10_8_6 = my_pred_NN_tanh_10_8_6.idxmax(axis = 1)\n",
    "my_pred_NN_tanh_10_8_6 = pd.DataFrame(my_pred_NN_tanh_10_8_6)\n",
    "my_pred_NN_tanh_10_8_6 = my_pred_NN_tanh_10_8_6[0][:].tolist()\n",
    "my_pred_NN_tanh_10_8_6\n"
   ],
   "metadata": {
    "collapsed": false,
    "pycharm": {
     "name": "#%%\n"
    }
   }
  },
  {
   "cell_type": "markdown",
   "source": [
    "## Calcul de la matrice de confusion"
   ],
   "metadata": {
    "collapsed": false,
    "pycharm": {
     "name": "#%% md\n"
    }
   }
  },
  {
   "cell_type": "code",
   "execution_count": 721,
   "metadata": {
    "pycharm": {
     "name": "#%%\n"
    }
   },
   "outputs": [],
   "source": [
    "\"\"\"\n",
    "    DU HARD CODE ... :)\n",
    "\"\"\"\n",
    "def counter(a, p , actual, predicted):\n",
    "    correct = 0\n",
    "    for i in range(len(actual)):\n",
    "        if actual[i] == a and predicted[i] == p:\n",
    "            correct += 1\n",
    "    return correct\n",
    "\n",
    "def confusion_matrice(actual, predicted):\n",
    "    matrice = [[0,0,0,0],\n",
    "               [0,0,0,0],\n",
    "               [0,0,0,0],\n",
    "               [0,0,0,0]]\n",
    "    for i in range(4):\n",
    "        for j in range(4):\n",
    "            matrice[i][j] = counter(i, j, actual, predicted)\n",
    "    return  matrice\n",
    "\n",
    "def affiche_ligne():\n",
    "    for i in range(4):\n",
    "        print('----------', end='')\n",
    "    print('\\n')\n",
    "\n",
    "def affiche(m):\n",
    "    affiche_ligne()\n",
    "\n",
    "    for i in range(4):\n",
    "        print('| ', end='')\n",
    "        for j in range(4):\n",
    "            print('  ' + str(m[i][j]) + '  ', end=' ')\n",
    "            print(' |', end=' ')\n",
    "        print('\\n')\n",
    "        affiche_ligne()"
   ]
  },
  {
   "cell_type": "markdown",
   "source": [
    "### Quelques tests des matrices de confusion"
   ],
   "metadata": {
    "collapsed": false,
    "pycharm": {
     "name": "#%% md\n"
    }
   }
  },
  {
   "cell_type": "code",
   "execution_count": 722,
   "metadata": {
    "pycharm": {
     "name": "#%%\n"
    }
   },
   "outputs": [
    {
     "name": "stdout",
     "output_type": "stream",
     "text": [
      "----------------------------------------\n",
      "\n",
      "|   114    |   3    |   0    |   6    | \n",
      "\n",
      "----------------------------------------\n",
      "\n",
      "|   0    |   119    |   2    |   1    | \n",
      "\n",
      "----------------------------------------\n",
      "\n",
      "|   2    |   1    |   59    |   1    | \n",
      "\n",
      "----------------------------------------\n",
      "\n",
      "|   1    |   7    |   5    |   24    | \n",
      "\n",
      "----------------------------------------\n",
      "\n"
     ]
    }
   ],
   "source": [
    "#affiche(confusion_matrice(actual=y_test, predicted=y_pred_DT4))\n",
    "#affiche(confusion_matrice(actual=y_test, predicted=y_pred_DT5))\n",
    "#affiche(confusion_matrice(actual=y_test, predicted=y_pred_DT6))\n",
    "#affiche(confusion_matrice(actual=y_test, predicted=y_pred_NN_relu_6_4))\n",
    "#affiche(confusion_matrice(actual=y_test, predicted=y_pred_NN_relu_10_8_4))\n",
    "#affiche(confusion_matrice(actual=y_test, predicted=y_pred_NN_relu_10_8_6))\n",
    "#affiche(confusion_matrice(actual=y_test, predicted=y_pred_NN_tanh_6_4))\n",
    "#affiche(confusion_matrice(actual=y_test, predicted=y_pred_NN_tanh_10_8_4))\n",
    "#affiche(confusion_matrice(actual=y_test, predicted=y_pred_NN_tanh_10_8_6))\n",
    "\n",
    "####################### TEST DE NOS PREDICTIONS ############################\"\n",
    "affiche(confusion_matrice(actual=my_test, predicted=my_pred_NN_tanh_10_8_6))"
   ]
  },
  {
   "cell_type": "markdown",
   "source": [
    "## Déduction de la matrice de confusion de chaque class indépendament puis calcul des TP, TN, FP, FN"
   ],
   "metadata": {
    "collapsed": false,
    "pycharm": {
     "name": "#%% md\n"
    }
   }
  },
  {
   "cell_type": "code",
   "execution_count": 723,
   "metadata": {
    "pycharm": {
     "name": "#%%\n"
    }
   },
   "outputs": [],
   "source": [
    "def TP(classe, m):\n",
    "    return m[classe][classe]\n",
    "\n",
    "def FN(cls, m):\n",
    "    count = 0\n",
    "    for i in range(4):\n",
    "        for j in range(4):\n",
    "            if i == cls and j != cls:\n",
    "                count += m[i][j]\n",
    "    return count\n",
    "\n",
    "def FP(cls, m):\n",
    "    count = 0\n",
    "    for i in range(4):\n",
    "        for j in range(4):\n",
    "            if j == cls and i != cls:\n",
    "                count += m[i][j]\n",
    "    return  count\n",
    "\n",
    "def TN(cls,m):\n",
    "    count = 0\n",
    "    for i in range(4):\n",
    "        for j in range(4):\n",
    "            if i != cls and j != cls:\n",
    "                count += m[i][j]\n",
    "    return count\n",
    "\n",
    "def accuracy(actual, predicted):\n",
    "    mc = confusion_matrice(actual, predicted)\n",
    "    tp = 0\n",
    "    for c in range(4):\n",
    "        tp += TP(c, mc)\n",
    "    return tp / float(len(actual)) * 100.0"
   ]
  },
  {
   "cell_type": "markdown",
   "source": [
    "## Calcul des différents métrics (Accurracy, Precision, recall, f1-score ...)"
   ],
   "metadata": {
    "collapsed": false,
    "pycharm": {
     "name": "#%% md\n"
    }
   }
  },
  {
   "cell_type": "code",
   "execution_count": 724,
   "outputs": [],
   "source": [
    "def precision(cible, actual, predicted):\n",
    "    mc = confusion_matrice(actual, predicted)\n",
    "    tp = TP(cible, mc)\n",
    "    fp = FP(cible, mc)\n",
    "    #print('cible' + str(cible))\n",
    "    #print('tp '+ str(tp))\n",
    "    #print('fp '+ str(fp))\n",
    "    if(tp == 0):\n",
    "        return 0\n",
    "    return tp/(tp + fp)\n",
    "\n",
    "def recall(cible, actual, predicted):\n",
    "    mc = confusion_matrice(actual, predicted)\n",
    "    tp = TP(cible, mc)\n",
    "    fn = FN(cible, mc)\n",
    "    if tp == 0:\n",
    "        return 0\n",
    "    return tp/(tp + fn)\n",
    "\n",
    "def specificy(cible, actual, predicted):\n",
    "\tmc = confusion_matrice(actual, predicted)\n",
    "\ttn = TN(cible, mc)\n",
    "\tfp = FP(cible, mc)\n",
    "\treturn tn/(tn + fp)\n",
    "\n",
    "def accuracyOfClass(cible, actual, predicted):\n",
    "\tm = confusion_matrice(actual, predicted)\n",
    "\ttp = TP(cible, m)\n",
    "\ttn = TN(cible, m)\n",
    "\tfp = FP(cible, m)\n",
    "\tfn = FN(cible, m)\n",
    "\t#print((tp))\n",
    "\t#print((tp + tn))\n",
    "\t#print((tp + tn + fp + fn))\n",
    "\treturn (tp + tn)/(tp + tn + fp + fn)\n",
    "\n",
    "def f1_score(cible, actual, predicted):\n",
    "    prec = precision(cible, actual, predicted)\n",
    "    rec = recall(cible, actual, predicted)\n",
    "    if prec == 0 or rec == 0:\n",
    "        return 0\n",
    "    return 2 * ((prec * rec) / (prec + rec))\n",
    "\n",
    "def getMetrics(actual, predicted):\n",
    "    \"\"\"\n",
    "    Fonction qui calcul pour chaque class les différentes métrics associé\n",
    "    :param actual:\n",
    "    :param predicted:\n",
    "    :return:\n",
    "        un dictionnaire (classe <-> metric)\n",
    "    \"\"\"\n",
    "    dico = {}\n",
    "    for i in range(4):\n",
    "        di = {}\n",
    "        di['Accuracy'] = accuracyOfClass(i, actual, predicted)\n",
    "        di['Precision'] = precision(i, actual, predicted)\n",
    "        di['Recall'] = recall(i, actual, predicted)\n",
    "        di['F1-score'] = f1_score(i, actual, predicted)\n",
    "        dico[i] = di\n",
    "    return dico"
   ],
   "metadata": {
    "collapsed": false,
    "pycharm": {
     "name": "#%%\n"
    }
   }
  },
  {
   "cell_type": "markdown",
   "source": [
    "### Test des différents métrics"
   ],
   "metadata": {
    "collapsed": false,
    "pycharm": {
     "name": "#%% md\n"
    }
   }
  },
  {
   "cell_type": "code",
   "execution_count": 725,
   "metadata": {
    "pycharm": {
     "name": "#%%\n"
    }
   },
   "outputs": [
    {
     "data": {
      "text/plain": "{0: {'Accuracy': 0.936231884057971,\n  'Precision': 0.9105691056910569,\n  'Recall': 0.9105691056910569,\n  'F1-score': 0.9105691056910569},\n 1: {'Accuracy': 0.9420289855072463,\n  'Precision': 0.875,\n  'Recall': 0.9754098360655737,\n  'F1-score': 0.9224806201550387},\n 2: {'Accuracy': 0.927536231884058,\n  'Precision': 0.7209302325581395,\n  'Recall': 0.9841269841269841,\n  'F1-score': 0.832214765100671},\n 3: {'Accuracy': 0.8927536231884058,\n  'Precision': 0,\n  'Recall': 0,\n  'F1-score': 0}}"
     },
     "execution_count": 725,
     "metadata": {},
     "output_type": "execute_result"
    }
   ],
   "source": [
    "#getMetrics(y_test, y_pred_DT4)\n",
    "#getMetrics(y_test, y_pred_DT5)\n",
    "#getMetrics(y_test, y_pred_DT6)\n",
    "#getMetrics(y_test, y_pred_NN_relu_6_4)\n",
    "#getMetrics(y_test, y_pred_NN_relu_10_8_4)\n",
    "#getMetrics(y_test, y_pred_NN_relu_10_8_6)\n",
    "#getMetrics(y_test, y_pred_NN_tanh_6_4)\n",
    "#getMetrics(y_test, y_pred_NN_tanh_10_8_4)\n",
    "#getMetrics(y_test, y_pred_NN_tanh_10_8_6)\n",
    "\n",
    "##################### NOS PREDICTIONS ########################\"\n",
    "#getMetrics(my_test, my_pred_DT3)\n",
    "#getMetrics(my_test, my_pred_DT4)\n",
    "#getMetrics(my_test, my_pred_DT5)\n",
    "#getMetrics(my_test, my_pred_NN_relu_6_4)\n",
    "#getMetrics(my_test, my_pred_NN_relu_10_8_4)\n",
    "#getMetrics(my_test, my_pred_NN_relu_10_8_6)\n",
    "#getMetrics(my_test, my_pred_NN_tanh_6_4)\n",
    "getMetrics(my_test, my_pred_NN_tanh_10_8_4)\n",
    "#getMetrics(my_test, my_pred_NN_tanh_10_8_6)"
   ]
  },
  {
   "cell_type": "code",
   "execution_count": 726,
   "metadata": {
    "pycharm": {
     "name": "#%%\n"
    }
   },
   "outputs": [
    {
     "data": {
      "text/plain": "0.8376811594202899"
     },
     "execution_count": 726,
     "metadata": {},
     "output_type": "execute_result"
    }
   ],
   "source": [
    "#accuracyOfClass(2, y_test, y_pred_DT4)\n",
    "#accuracyOfClass(2, y_test, y_pred_DT5)\n",
    "#accuracyOfClass(2, y_test, y_pred_DT6)\n",
    "#accuracyOfClass(2, y_test, y_pred_NN_relu_6_4)\n",
    "#accuracyOfClass(2, y_test, y_pred_NN_relu_10_8_4)\n",
    "#accuracyOfClass(2, y_test, y_pred_NN_relu_10_8_6)\n",
    "#accuracyOfClass(2, y_test, y_pred_NN_tanh_6_4)\n",
    "#accuracyOfClass(2, y_test, y_pred_NN_tanh_10_8_4)\n",
    "#accuracyOfClass(2, y_test, y_pred_NN_tanh_10_8_6)\n",
    "accuracyOfClass(2, my_test, my_pred_DT3)"
   ]
  },
  {
   "cell_type": "code",
   "execution_count": 727,
   "metadata": {
    "pycharm": {
     "name": "#%%\n"
    }
   },
   "outputs": [
    {
     "data": {
      "text/plain": "0.9101123595505618"
     },
     "execution_count": 727,
     "metadata": {},
     "output_type": "execute_result"
    }
   ],
   "source": [
    "\n",
    "#f1_score(2, y_test, y_pred_DT4)\n",
    "#f1_score(2, y_test, y_pred_DT5)\n",
    "#f1_score(2, y_test, y_pred_DT6)\n",
    "#f1_score(2, y_test, y_pred_NN_relu_6_4)\n",
    "#f1_score(2, y_test, y_pred_NN_relu_10_8_4)\n",
    "#f1_score(2, y_test, y_pred_NN_relu_10_8_6)\n",
    "#f1_score(2, y_test, y_pred_NN_tanh_6_4)\n",
    "#f1_score(2, y_test, y_pred_NN_tanh_10_8_4)\n",
    "f1_score(2, y_test, y_pred_NN_tanh_10_8_6)"
   ]
  },
  {
   "cell_type": "code",
   "execution_count": 728,
   "metadata": {
    "pycharm": {
     "name": "#%%\n"
    }
   },
   "outputs": [
    {
     "data": {
      "text/plain": "0.9784366576819407"
     },
     "execution_count": 728,
     "metadata": {},
     "output_type": "execute_result"
    }
   ],
   "source": [
    "\n",
    "#specificy(2, y_test, y_pred_DT4)\n",
    "#specificy(2, y_test, y_pred_DT5)\n",
    "#specificy(2, y_test, y_pred_DT6)\n",
    "#specificy(2, y_test, y_pred_NN_relu_6_4)\n",
    "#specificy(2, y_test, y_pred_NN_relu_10_8_4)\n",
    "#specificy(2, y_test, y_pred_NN_relu_10_8_6)\n",
    "#specificy(2, y_test, y_pred_NN_tanh_6_4)\n",
    "#specificy(2, y_test, y_pred_NN_tanh_10_8_4)\n",
    "specificy(2, y_test, y_pred_NN_tanh_10_8_6)"
   ]
  },
  {
   "cell_type": "code",
   "execution_count": 729,
   "metadata": {
    "pycharm": {
     "name": "#%%\n"
    }
   },
   "outputs": [
    {
     "data": {
      "text/plain": "0.9101123595505618"
     },
     "execution_count": 729,
     "metadata": {},
     "output_type": "execute_result"
    }
   ],
   "source": [
    "\n",
    "#precision(2, y_test, y_pred_DT4)\n",
    "#precision(2, y_test, y_pred_DT5)\n",
    "#precision(2, y_test, y_pred_DT6)\n",
    "#precision(2, y_test, y_pred_NN_relu_6_4)\n",
    "#precision(2, y_test, y_pred_NN_relu_10_8_4)\n",
    "#precision(2, y_test, y_pred_NN_relu_10_8_6)\n",
    "#precision(2, y_test, y_pred_NN_tanh_6_4)\n",
    "#precision(2, y_test, y_pred_NN_tanh_10_8_4)\n",
    "precision(2, y_test, y_pred_NN_tanh_10_8_6)"
   ]
  },
  {
   "cell_type": "code",
   "execution_count": 730,
   "metadata": {
    "pycharm": {
     "name": "#%%\n"
    }
   },
   "outputs": [
    {
     "data": {
      "text/plain": "0.9101123595505618"
     },
     "execution_count": 730,
     "metadata": {},
     "output_type": "execute_result"
    }
   ],
   "source": [
    "\n",
    "#recall(2, y_test, y_pred_DT4)\n",
    "#recall(2, y_test, y_pred_DT5)\n",
    "#recall(2, y_test, y_pred_DT6)\n",
    "#recall(2, y_test, y_pred_NN_relu_6_4)\n",
    "#recall(2, y_test, y_pred_NN_relu_10_8_4)\n",
    "#recall(2, y_test, y_pred_NN_relu_10_8_6)\n",
    "#recall(2, y_test, y_pred_NN_tanh_6_4)\n",
    "#recall(2, y_test, y_pred_NN_tanh_10_8_4)\n",
    "recall(2, y_test, y_pred_NN_tanh_10_8_6)"
   ]
  },
  {
   "cell_type": "code",
   "execution_count": 731,
   "metadata": {
    "pycharm": {
     "name": "#%%\n"
    }
   },
   "outputs": [
    {
     "data": {
      "text/plain": "91.08695652173913"
     },
     "execution_count": 731,
     "metadata": {},
     "output_type": "execute_result"
    }
   ],
   "source": [
    "\n",
    "#accuracy(y_test, y_pred_DT4)\n",
    "#accuracy(y_test, y_pred_DT5)\n",
    "#accuracy(y_test, y_pred_DT6)\n",
    "#accuracy(y_test, y_pred_NN_relu_6_4)\n",
    "#accuracy(y_test, y_pred_NN_relu_10_8_4)\n",
    "#accuracy(y_test, y_pred_NN_relu_10_8_6)\n",
    "#accuracy(y_test, y_pred_NN_tanh_6_4)\n",
    "#accuracy(y_test, y_pred_NN_tanh_10_8_4)\n",
    "accuracy(y_test, y_pred_NN_tanh_10_8_6)"
   ]
  },
  {
   "cell_type": "code",
   "execution_count": 732,
   "metadata": {
    "pycharm": {
     "name": "#%%\n"
    }
   },
   "outputs": [
    {
     "data": {
      "text/plain": "45"
     },
     "execution_count": 732,
     "metadata": {},
     "output_type": "execute_result"
    }
   ],
   "source": [
    "TP(2, confusion_matrice(y_test, y_pred_DT4))\n",
    "TN(2, confusion_matrice(y_test, y_pred_DT4))\n",
    "FP(2, confusion_matrice(y_test, y_pred_DT4))\n",
    "FN(2, confusion_matrice(y_test, y_pred_DT4))"
   ]
  },
  {
   "cell_type": "markdown",
   "source": [
    "# Bibliothèque pour tester si notre matrice de confusion est correcte"
   ],
   "metadata": {
    "collapsed": false,
    "pycharm": {
     "name": "#%% md\n"
    }
   }
  },
  {
   "cell_type": "code",
   "execution_count": 733,
   "outputs": [
    {
     "data": {
      "text/plain": "0    0    1   2\n0              \n0  142    9   5\n1    0  163   3\n2    2    3  84\n3   13   13  23",
      "text/html": "<div>\n<style scoped>\n    .dataframe tbody tr th:only-of-type {\n        vertical-align: middle;\n    }\n\n    .dataframe tbody tr th {\n        vertical-align: top;\n    }\n\n    .dataframe thead th {\n        text-align: right;\n    }\n</style>\n<table border=\"1\" class=\"dataframe\">\n  <thead>\n    <tr style=\"text-align: right;\">\n      <th></th>\n      <th>0</th>\n      <th>1</th>\n      <th>2</th>\n    </tr>\n    <tr>\n      <th>0</th>\n      <th></th>\n      <th></th>\n      <th></th>\n    </tr>\n  </thead>\n  <tbody>\n    <tr>\n      <th>0</th>\n      <td>142</td>\n      <td>9</td>\n      <td>5</td>\n    </tr>\n    <tr>\n      <th>1</th>\n      <td>0</td>\n      <td>163</td>\n      <td>3</td>\n    </tr>\n    <tr>\n      <th>2</th>\n      <td>2</td>\n      <td>3</td>\n      <td>84</td>\n    </tr>\n    <tr>\n      <th>3</th>\n      <td>13</td>\n      <td>13</td>\n      <td>23</td>\n    </tr>\n  </tbody>\n</table>\n</div>"
     },
     "execution_count": 733,
     "metadata": {},
     "output_type": "execute_result"
    }
   ],
   "source": [
    "y_test = pd.read_csv(root + \"y_test.csv\", header=None)\n",
    "y_pred_NN_tanh_6_4 = pd.read_csv(root + \"y_pred_NN_tanh_10-8-4.csv\", header=None)\n",
    "pred = y_pred_NN_tanh_6_4.idxmax(axis=1)\n",
    "pred =  pd.DataFrame(pred)\n",
    "pred[0]\n",
    "confusion_M1 = pd.crosstab(y_test[0], pred[0])\n",
    "confusion_M1"
   ],
   "metadata": {
    "collapsed": false,
    "pycharm": {
     "name": "#%%\n"
    }
   }
  },
  {
   "cell_type": "code",
   "execution_count": 734,
   "outputs": [
    {
     "data": {
      "text/plain": "<AxesSubplot:xlabel='0', ylabel='0'>"
     },
     "execution_count": 734,
     "metadata": {},
     "output_type": "execute_result"
    },
    {
     "data": {
      "text/plain": "<Figure size 1224x360 with 2 Axes>",
      "image/png": "[encoded data removed]"
     },
     "metadata": {},
     "output_type": "display_data"
    }
   ],
   "source": [
    "fig = plt.figure(figsize=(17,5))\n",
    "ax1 = plt.subplot(121)\n",
    "sns.heatmap(confusion_M1, annot=True, cmap='Blues')"
   ],
   "metadata": {
    "collapsed": false,
    "pycharm": {
     "name": "#%%\n"
    }
   }
  },
  {
   "cell_type": "code",
   "execution_count": 735,
   "outputs": [
    {
     "data": {
      "text/plain": "1    166\n0    156\n2     89\n3     49\ndtype: int64"
     },
     "execution_count": 735,
     "metadata": {},
     "output_type": "execute_result"
    }
   ],
   "source": [
    "y_test = pd.read_csv(root + \"y_test.csv\", header=None)\n",
    "y_test.value_counts()"
   ],
   "metadata": {
    "collapsed": false,
    "pycharm": {
     "name": "#%%\n"
    }
   }
  }
 ],
 "metadata": {
  "kernelspec": {
   "display_name": "Python 3 (ipykernel)",
   "language": "python",
   "name": "python3"
  },
  "language_info": {
   "codemirror_mode": {
    "name": "ipython",
    "version": 3
   },
   "file_extension": ".py",
   "mimetype": "text/x-python",
   "name": "python",
   "nbconvert_exporter": "python",
   "pygments_lexer": "ipython3",
   "version": "3.8.10"
  }
 },
 "nbformat": 4,
 "nbformat_minor": 1
}